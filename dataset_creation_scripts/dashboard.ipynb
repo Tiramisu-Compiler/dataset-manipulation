{
 "cells": [
  {
   "cell_type": "code",
   "execution_count": 1,
   "metadata": {
    "tags": []
   },
   "outputs": [
    {
     "name": "stdout",
     "output_type": "stream",
     "text": [
      "/scratch/sk10691/workspace/new_tiramisu_vs_old/dataset/dataset-manipulation/dataset_creation_scripts\n"
     ]
    }
   ],
   "source": [
    "from IPython.display import FileLink, FileLinks\n",
    "from dotenv import load_dotenv\n",
    "load_dotenv()\n",
    "\n",
    "data_factory_path = os.getenv(\"DATA_FACTORY_PATH\")\n",
    "in_progress_folder = data_factory_path+'/in_progress/'\n",
    "worker_script = data_factory_path+'/worker_script.py'\n",
    "datasets_folder = data_factory_path+'/processed/datasets/'\n",
    "\n",
    "%run -i utils.py\n",
    "print(data_factory_path)"
   ]
  },
  {
   "cell_type": "code",
   "execution_count": 2,
   "metadata": {
    "collapsed": false,
    "jupyter": {
     "outputs_hidden": false
    }
   },
   "outputs": [
    {
     "name": "stderr",
     "output_type": "stream",
     "text": [
      "100%|██████████| 500/500 [03:46<00:00,  2.21it/s]"
     ]
    },
    {
     "name": "stdout",
     "output_type": "stream",
     "text": [
      "Generated 500 program across workers: worker_00\n"
     ]
    },
    {
     "name": "stderr",
     "output_type": "stream",
     "text": [
      "\n"
     ]
    }
   ],
   "source": [
    "# generate_programs(500)"
   ]
  },
  {
   "cell_type": "code",
   "execution_count": 2,
   "metadata": {
    "collapsed": false,
    "jupyter": {
     "outputs_hidden": false
    }
   },
   "outputs": [
    {
     "data": {
      "application/vnd.jupyter.widget-view+json": {
       "model_id": "8a64b0b6961c4aba804756936362b829",
       "version_major": 2,
       "version_minor": 0
      },
      "text/plain": [
       "  0%|          | 0/9 [00:00<?, ?it/s]"
      ]
     },
     "metadata": {},
     "output_type": "display_data"
    },
    {
     "name": "stdout",
     "output_type": "stream",
     "text": [
      "Abrupt exit detected on worker  0\n",
      "Abrupt exit detected on worker  1\n",
      "Abrupt exit detected on worker  2\n",
      "Abrupt exit detected on worker  3\n",
      "Abrupt exit detected on worker  4\n",
      "Abrupt exit detected on worker  5\n",
      "Abrupt exit detected on worker  6\n",
      "Abrupt exit detected on worker  7\n",
      "Abrupt exit detected on worker  8\n",
      "Worker 0 is already inactive\n",
      "Worker 1 is already inactive\n",
      "Worker 2 is already inactive\n",
      "Worker 3 is already inactive\n",
      "Worker 4 is already inactive\n",
      "Worker 5 is already inactive\n",
      "Worker 6 is already inactive\n",
      "Worker 7 is already inactive\n",
      "Worker 8 is already inactive\n",
      "Worker 9 is already inactive\n"
     ]
    }
   ],
   "source": [
    "kill_workers(worker_ids=[0,1,2,3,4,5,6,7,8,9])"
   ]
  },
  {
   "cell_type": "code",
   "execution_count": 3,
   "metadata": {
    "collapsed": false,
    "jupyter": {
     "outputs_hidden": false
    }
   },
   "outputs": [
    {
     "name": "stdout",
     "output_type": "stream",
     "text": [
      "8\n",
      "Process 3519252 waiting for worker_01 to finish8\n",
      "Process 3519258 waiting for worker_07 to finish8\n",
      "Process 3519255 waiting for worker_04 to finish8\n",
      "Process 3519256 waiting for worker_05 to finish8\n",
      "Process 3519253 waiting for worker_02 to finish\n",
      "\n",
      "\n",
      "8\n",
      "Process 3519259 waiting for worker_08 to finish8\n",
      "Process 3519257 waiting for worker_06 to finish8\n",
      "Process 3519254 waiting for worker_03 to finish\n",
      "\n",
      "\n",
      "\n",
      "\n",
      "8\n"
     ]
    },
    {
     "name": "stderr",
     "output_type": "stream",
     "text": [
      "Process 3519259 of worker_08 exited with exception [Errno 2] No such file or directory: '/scratch/sk10691/workspace/new_tiramisu_vs_old/dataset/dataset-manipulation/dataset_creation_scripts/in_progress/worker_08/output/skipped/function000093' -> '/scratch/sk10691/workspace/new_tiramisu_vs_old/dataset/dataset-manipulation/dataset_creation_scripts/processed/skipped/function000093'\n",
      "Process 3519258 of worker_07 exited with exception [Errno 2] No such file or directory: '/scratch/sk10691/workspace/new_tiramisu_vs_old/dataset/dataset-manipulation/dataset_creation_scripts/in_progress/worker_07/output/skipped/function000434' -> '/scratch/sk10691/workspace/new_tiramisu_vs_old/dataset/dataset-manipulation/dataset_creation_scripts/processed/skipped/function000434'\n",
      "Process 3519257 of worker_06 exited with exception [Errno 2] No such file or directory: '/scratch/sk10691/workspace/new_tiramisu_vs_old/dataset/dataset-manipulation/dataset_creation_scripts/in_progress/worker_06/output/skipped/function000384' -> '/scratch/sk10691/workspace/new_tiramisu_vs_old/dataset/dataset-manipulation/dataset_creation_scripts/processed/skipped/function000384'\n",
      "Process 3519256 of worker_05 exited with exception [Errno 2] No such file or directory: '/scratch/sk10691/workspace/new_tiramisu_vs_old/dataset/dataset-manipulation/dataset_creation_scripts/in_progress/worker_05/output/skipped/function000334' -> '/scratch/sk10691/workspace/new_tiramisu_vs_old/dataset/dataset-manipulation/dataset_creation_scripts/processed/skipped/function000334'\n",
      "Process 3519255 of worker_04 exited with exception [Errno 2] No such file or directory: '/scratch/sk10691/workspace/new_tiramisu_vs_old/dataset/dataset-manipulation/dataset_creation_scripts/in_progress/worker_04/output/skipped/function000251' -> '/scratch/sk10691/workspace/new_tiramisu_vs_old/dataset/dataset-manipulation/dataset_creation_scripts/processed/skipped/function000251'\n",
      "Process 3519252 of worker_01 exited with exception [Errno 2] No such file or directory: '/scratch/sk10691/workspace/new_tiramisu_vs_old/dataset/dataset-manipulation/dataset_creation_scripts/in_progress/worker_01/output/skipped/function000063' -> '/scratch/sk10691/workspace/new_tiramisu_vs_old/dataset/dataset-manipulation/dataset_creation_scripts/processed/skipped/function000063'\n",
      "Process 3519253 of worker_02 exited with exception [Errno 2] No such file or directory: '/scratch/sk10691/workspace/new_tiramisu_vs_old/dataset/dataset-manipulation/dataset_creation_scripts/in_progress/worker_02/output/skipped/function000015' -> '/scratch/sk10691/workspace/new_tiramisu_vs_old/dataset/dataset-manipulation/dataset_creation_scripts/processed/skipped/function000015'\n",
      "Process 3519254 of worker_03 exited with exception [Errno 2] No such file or directory: '/scratch/sk10691/workspace/new_tiramisu_vs_old/dataset/dataset-manipulation/dataset_creation_scripts/in_progress/worker_03/output/skipped/function000205' -> '/scratch/sk10691/workspace/new_tiramisu_vs_old/dataset/dataset-manipulation/dataset_creation_scripts/processed/skipped/function000205'\n"
     ]
    },
    {
     "name": "stdout",
     "output_type": "stream",
     "text": [
      "Submitted batch job 1172684\n",
      "\n",
      "Worker job 1172684 submitted on folder /scratch/sk10691/workspace/new_tiramisu_vs_old/dataset/dataset-manipulation/dataset_creation_scripts/in_progress/worker_00\n"
     ]
    }
   ],
   "source": [
    "# redistribute_functions(dest_worker_ids='all')\n",
    "scale_workers(1)\n",
    "# launch_missing_workers()\n",
    "# restart_active_workers(worker_ids='all')"
   ]
  },
  {
   "cell_type": "code",
   "execution_count": 2,
   "metadata": {
    "collapsed": false,
    "jupyter": {
     "outputs_hidden": false
    }
   },
   "outputs": [
    {
     "data": {
      "application/vnd.jupyter.widget-view+json": {
       "model_id": "ffc1519d308248dea73e75a72b7fc487",
       "version_major": 2,
       "version_minor": 0
      },
      "text/plain": [
       "  0%|          | 0/9 [00:00<?, ?it/s]"
      ]
     },
     "metadata": {},
     "output_type": "display_data"
    },
    {
     "data": {
      "text/html": [
       "<div>\n",
       "<style scoped>\n",
       "    .dataframe tbody tr th:only-of-type {\n",
       "        vertical-align: middle;\n",
       "    }\n",
       "\n",
       "    .dataframe tbody tr th {\n",
       "        vertical-align: top;\n",
       "    }\n",
       "\n",
       "    .dataframe thead th {\n",
       "        text-align: right;\n",
       "    }\n",
       "</style>\n",
       "<table border=\"1\" class=\"dataframe\">\n",
       "  <thead>\n",
       "    <tr style=\"text-align: right;\">\n",
       "      <th></th>\n",
       "      <th>worker_id</th>\n",
       "      <th>is_running</th>\n",
       "      <th>job_id</th>\n",
       "      <th>worker_name</th>\n",
       "      <th>current_function</th>\n",
       "      <th>time_since_update</th>\n",
       "      <th>functions_left</th>\n",
       "      <th>functions_done</th>\n",
       "      <th>functions_skipped</th>\n",
       "      <th>dps_ready</th>\n",
       "      <th>stop_signal</th>\n",
       "    </tr>\n",
       "  </thead>\n",
       "  <tbody>\n",
       "    <tr>\n",
       "      <th>0</th>\n",
       "      <td>0</td>\n",
       "      <td>True</td>\n",
       "      <td>1172684</td>\n",
       "      <td>dn300</td>\n",
       "      <td>function000005</td>\n",
       "      <td>2:28:03.308522</td>\n",
       "      <td>42</td>\n",
       "      <td>1</td>\n",
       "      <td>2</td>\n",
       "      <td>?</td>\n",
       "      <td>False</td>\n",
       "    </tr>\n",
       "    <tr>\n",
       "      <th>1</th>\n",
       "      <td>1</td>\n",
       "      <td>True</td>\n",
       "      <td>1172675</td>\n",
       "      <td>dn102</td>\n",
       "      <td>function000060</td>\n",
       "      <td>2:29:14.569517</td>\n",
       "      <td>42</td>\n",
       "      <td>1</td>\n",
       "      <td>1</td>\n",
       "      <td>?</td>\n",
       "      <td>False</td>\n",
       "    </tr>\n",
       "    <tr>\n",
       "      <th>2</th>\n",
       "      <td>2</td>\n",
       "      <td>True</td>\n",
       "      <td>1172676</td>\n",
       "      <td>dn357</td>\n",
       "      <td>function000022</td>\n",
       "      <td>0:20:03.045068</td>\n",
       "      <td>35</td>\n",
       "      <td>5</td>\n",
       "      <td>5</td>\n",
       "      <td>?</td>\n",
       "      <td>False</td>\n",
       "    </tr>\n",
       "    <tr>\n",
       "      <th>3</th>\n",
       "      <td>3</td>\n",
       "      <td>True</td>\n",
       "      <td>1172677</td>\n",
       "      <td>dn208</td>\n",
       "      <td>function000024</td>\n",
       "      <td>2:24:14.950215</td>\n",
       "      <td>41</td>\n",
       "      <td>15</td>\n",
       "      <td>1</td>\n",
       "      <td>?</td>\n",
       "      <td>False</td>\n",
       "    </tr>\n",
       "    <tr>\n",
       "      <th>4</th>\n",
       "      <td>4</td>\n",
       "      <td>True</td>\n",
       "      <td>1172678</td>\n",
       "      <td>dn190</td>\n",
       "      <td>function000034</td>\n",
       "      <td>2:29:04.148399</td>\n",
       "      <td>42</td>\n",
       "      <td>2</td>\n",
       "      <td>0</td>\n",
       "      <td>?</td>\n",
       "      <td>False</td>\n",
       "    </tr>\n",
       "    <tr>\n",
       "      <th>5</th>\n",
       "      <td>5</td>\n",
       "      <td>True</td>\n",
       "      <td>1172679</td>\n",
       "      <td>dn197</td>\n",
       "      <td>function000106</td>\n",
       "      <td>2:28:42.608050</td>\n",
       "      <td>41</td>\n",
       "      <td>9</td>\n",
       "      <td>0</td>\n",
       "      <td>?</td>\n",
       "      <td>False</td>\n",
       "    </tr>\n",
       "    <tr>\n",
       "      <th>6</th>\n",
       "      <td>6</td>\n",
       "      <td>True</td>\n",
       "      <td>1172680</td>\n",
       "      <td>dn252</td>\n",
       "      <td>function000095</td>\n",
       "      <td>1:47:43.848721</td>\n",
       "      <td>38</td>\n",
       "      <td>12</td>\n",
       "      <td>2</td>\n",
       "      <td>?</td>\n",
       "      <td>False</td>\n",
       "    </tr>\n",
       "    <tr>\n",
       "      <th>7</th>\n",
       "      <td>7</td>\n",
       "      <td>True</td>\n",
       "      <td>1172681</td>\n",
       "      <td>dn032</td>\n",
       "      <td>function000214</td>\n",
       "      <td>0:31:09.435711</td>\n",
       "      <td>34</td>\n",
       "      <td>8</td>\n",
       "      <td>3</td>\n",
       "      <td>?</td>\n",
       "      <td>False</td>\n",
       "    </tr>\n",
       "    <tr>\n",
       "      <th>8</th>\n",
       "      <td>8</td>\n",
       "      <td>True</td>\n",
       "      <td>1172682</td>\n",
       "      <td>dn159</td>\n",
       "      <td>function000251</td>\n",
       "      <td>1:42:05.621474</td>\n",
       "      <td>34</td>\n",
       "      <td>10</td>\n",
       "      <td>5</td>\n",
       "      <td>?</td>\n",
       "      <td>False</td>\n",
       "    </tr>\n",
       "  </tbody>\n",
       "</table>\n",
       "</div>"
      ],
      "text/plain": [
       "   worker_id  is_running   job_id worker_name current_function  \\\n",
       "0          0        True  1172684       dn300   function000005   \n",
       "1          1        True  1172675       dn102   function000060   \n",
       "2          2        True  1172676       dn357   function000022   \n",
       "3          3        True  1172677       dn208   function000024   \n",
       "4          4        True  1172678       dn190   function000034   \n",
       "5          5        True  1172679       dn197   function000106   \n",
       "6          6        True  1172680       dn252   function000095   \n",
       "7          7        True  1172681       dn032   function000214   \n",
       "8          8        True  1172682       dn159   function000251   \n",
       "\n",
       "  time_since_update  functions_left  functions_done  functions_skipped  \\\n",
       "0    2:28:03.308522              42               1                  2   \n",
       "1    2:29:14.569517              42               1                  1   \n",
       "2    0:20:03.045068              35               5                  5   \n",
       "3    2:24:14.950215              41              15                  1   \n",
       "4    2:29:04.148399              42               2                  0   \n",
       "5    2:28:42.608050              41               9                  0   \n",
       "6    1:47:43.848721              38              12                  2   \n",
       "7    0:31:09.435711              34               8                  3   \n",
       "8    1:42:05.621474              34              10                  5   \n",
       "\n",
       "  dps_ready  stop_signal  \n",
       "0         ?        False  \n",
       "1         ?        False  \n",
       "2         ?        False  \n",
       "3         ?        False  \n",
       "4         ?        False  \n",
       "5         ?        False  \n",
       "6         ?        False  \n",
       "7         ?        False  \n",
       "8         ?        False  "
      ]
     },
     "execution_count": 2,
     "metadata": {},
     "output_type": "execute_result"
    }
   ],
   "source": [
    "get_workers_status(count_dps=False)"
   ]
  },
  {
   "cell_type": "code",
   "execution_count": 24,
   "metadata": {},
   "outputs": [],
   "source": [
    "redistribute_functions(dest_worker_ids='all')"
   ]
  },
  {
   "cell_type": "code",
   "execution_count": null,
   "metadata": {
    "collapsed": false,
    "jupyter": {
     "outputs_hidden": false
    }
   },
   "outputs": [],
   "source": [
    "if input('Heads-up! irreversible operation. Continue?') == 'yes':\n",
    "    clear_skipped_funcs(mode='delete', worker_ids='all')\n",
    "    clear_done_funcs(mode='delete', worker_ids='all')"
   ]
  }
 ],
 "metadata": {
  "kernelspec": {
   "display_name": "Python 3.10.9 ('new-tiramisu-1')",
   "language": "python",
   "name": "python3"
  },
  "language_info": {
   "codemirror_mode": {
    "name": "ipython",
    "version": 3
   },
   "file_extension": ".py",
   "mimetype": "text/x-python",
   "name": "python",
   "nbconvert_exporter": "python",
   "pygments_lexer": "ipython3",
   "version": "3.10.9"
  },
  "vscode": {
   "interpreter": {
    "hash": "b66f39c4d17dc1c0d9d69eefd49d6faefecd7fefeabcedb3ae6764f1703ed1f1"
   }
  }
 },
 "nbformat": 4,
 "nbformat_minor": 4
}
