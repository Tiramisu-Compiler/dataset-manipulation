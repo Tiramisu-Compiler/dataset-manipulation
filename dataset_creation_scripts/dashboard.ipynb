{
 "cells": [
  {
   "cell_type": "code",
   "execution_count": 1,
   "metadata": {
    "tags": []
   },
   "outputs": [],
   "source": [
    "from IPython.display import FileLink, FileLinks\n",
    "\n",
    "data_factory_path = '/scratch/sk10691/workspace/new_tiramisu_vs_old/dataset/dataset-manipulation/dataset_creation_scripts/'\n",
    "in_progress_folder = data_factory_path+'in_progress/'\n",
    "worker_script = data_factory_path+'worker_script.py'\n",
    "datasets_folder = data_factory_path+'processed/datasets/'\n",
    "\n",
    "%run -i utils.py"
   ]
  },
  {
   "cell_type": "code",
   "execution_count": 4,
   "metadata": {
    "collapsed": false,
    "jupyter": {
     "outputs_hidden": false
    }
   },
   "outputs": [
    {
     "name": "stderr",
     "output_type": "stream",
     "text": [
      "100%|██████████| 500/500 [03:52<00:00,  2.15it/s]"
     ]
    },
    {
     "name": "stdout",
     "output_type": "stream",
     "text": [
      "Generated 500 program across workers: worker_00\n"
     ]
    },
    {
     "name": "stderr",
     "output_type": "stream",
     "text": [
      "\n"
     ]
    }
   ],
   "source": [
    "generate_programs(500)"
   ]
  },
  {
   "cell_type": "code",
   "execution_count": null,
   "metadata": {
    "collapsed": false,
    "jupyter": {
     "outputs_hidden": false
    }
   },
   "outputs": [],
   "source": [
    "# kill_workers(worker_ids=[11])"
   ]
  },
  {
   "cell_type": "code",
   "execution_count": 4,
   "metadata": {
    "collapsed": false,
    "jupyter": {
     "outputs_hidden": false
    }
   },
   "outputs": [
    {
     "name": "stdout",
     "output_type": "stream",
     "text": [
      "Submitted batch job 1157736\n",
      "\n",
      "Worker job 1157736 submitted on folder /scratch/sk10691/workspace/new_tiramisu_vs_old/dataset/dataset-manipulation/dataset_creation_scripts/in_progress/worker_00\n",
      "Submitted batch job 1157737\n",
      "\n",
      "Worker job 1157737 submitted on folder /scratch/sk10691/workspace/new_tiramisu_vs_old/dataset/dataset-manipulation/dataset_creation_scripts/in_progress/worker_01\n",
      "Submitted batch job 1157738\n",
      "\n",
      "Worker job 1157738 submitted on folder /scratch/sk10691/workspace/new_tiramisu_vs_old/dataset/dataset-manipulation/dataset_creation_scripts/in_progress/worker_02\n",
      "Submitted batch job 1157739\n",
      "\n",
      "Worker job 1157739 submitted on folder /scratch/sk10691/workspace/new_tiramisu_vs_old/dataset/dataset-manipulation/dataset_creation_scripts/in_progress/worker_03\n",
      "Submitted batch job 1157740\n",
      "\n",
      "Worker job 1157740 submitted on folder /scratch/sk10691/workspace/new_tiramisu_vs_old/dataset/dataset-manipulation/dataset_creation_scripts/in_progress/worker_04\n",
      "Submitted batch job 1157741\n",
      "\n",
      "Worker job 1157741 submitted on folder /scratch/sk10691/workspace/new_tiramisu_vs_old/dataset/dataset-manipulation/dataset_creation_scripts/in_progress/worker_05\n",
      "Submitted batch job 1157742\n",
      "\n",
      "Worker job 1157742 submitted on folder /scratch/sk10691/workspace/new_tiramisu_vs_old/dataset/dataset-manipulation/dataset_creation_scripts/in_progress/worker_06\n",
      "Submitted batch job 1157743\n",
      "\n",
      "Worker job 1157743 submitted on folder /scratch/sk10691/workspace/new_tiramisu_vs_old/dataset/dataset-manipulation/dataset_creation_scripts/in_progress/worker_07\n",
      "Submitted batch job 1157744\n",
      "\n",
      "Worker job 1157744 submitted on folder /scratch/sk10691/workspace/new_tiramisu_vs_old/dataset/dataset-manipulation/dataset_creation_scripts/in_progress/worker_08\n"
     ]
    }
   ],
   "source": [
    "# redistribute_functions(dest_worker_ids='all')\n",
    "scale_workers(9)\n",
    "# launch_missing_workers()\n",
    "# restart_active_workers(worker_ids='all')"
   ]
  },
  {
   "cell_type": "code",
   "execution_count": 2,
   "metadata": {
    "collapsed": false,
    "jupyter": {
     "outputs_hidden": false
    }
   },
   "outputs": [
    {
     "data": {
      "application/vnd.jupyter.widget-view+json": {
       "model_id": "88d93155a661421c905b8534ecdd2695",
       "version_major": 2,
       "version_minor": 0
      },
      "text/plain": [
       "  0%|          | 0/9 [00:00<?, ?it/s]"
      ]
     },
     "metadata": {},
     "output_type": "display_data"
    },
    {
     "data": {
      "text/html": [
       "<div>\n",
       "<style scoped>\n",
       "    .dataframe tbody tr th:only-of-type {\n",
       "        vertical-align: middle;\n",
       "    }\n",
       "\n",
       "    .dataframe tbody tr th {\n",
       "        vertical-align: top;\n",
       "    }\n",
       "\n",
       "    .dataframe thead th {\n",
       "        text-align: right;\n",
       "    }\n",
       "</style>\n",
       "<table border=\"1\" class=\"dataframe\">\n",
       "  <thead>\n",
       "    <tr style=\"text-align: right;\">\n",
       "      <th></th>\n",
       "      <th>worker_id</th>\n",
       "      <th>is_running</th>\n",
       "      <th>job_id</th>\n",
       "      <th>worker_name</th>\n",
       "      <th>current_function</th>\n",
       "      <th>time_since_update</th>\n",
       "      <th>functions_left</th>\n",
       "      <th>functions_done</th>\n",
       "      <th>functions_skipped</th>\n",
       "      <th>dps_ready</th>\n",
       "      <th>stop_signal</th>\n",
       "    </tr>\n",
       "  </thead>\n",
       "  <tbody>\n",
       "    <tr>\n",
       "      <th>0</th>\n",
       "      <td>0</td>\n",
       "      <td>True</td>\n",
       "      <td>1157736</td>\n",
       "      <td>dn230</td>\n",
       "      <td>None</td>\n",
       "      <td>0:00:11.326507</td>\n",
       "      <td>0</td>\n",
       "      <td>0</td>\n",
       "      <td>48</td>\n",
       "      <td>?</td>\n",
       "      <td>False</td>\n",
       "    </tr>\n",
       "    <tr>\n",
       "      <th>1</th>\n",
       "      <td>1</td>\n",
       "      <td>True</td>\n",
       "      <td>1157737</td>\n",
       "      <td>dn189</td>\n",
       "      <td>None</td>\n",
       "      <td>0:00:09.885998</td>\n",
       "      <td>0</td>\n",
       "      <td>0</td>\n",
       "      <td>48</td>\n",
       "      <td>?</td>\n",
       "      <td>False</td>\n",
       "    </tr>\n",
       "    <tr>\n",
       "      <th>2</th>\n",
       "      <td>2</td>\n",
       "      <td>True</td>\n",
       "      <td>1157738</td>\n",
       "      <td>dn043</td>\n",
       "      <td>None</td>\n",
       "      <td>0:00:00.468873</td>\n",
       "      <td>0</td>\n",
       "      <td>0</td>\n",
       "      <td>48</td>\n",
       "      <td>?</td>\n",
       "      <td>False</td>\n",
       "    </tr>\n",
       "    <tr>\n",
       "      <th>3</th>\n",
       "      <td>3</td>\n",
       "      <td>True</td>\n",
       "      <td>1157739</td>\n",
       "      <td>dn044</td>\n",
       "      <td>None</td>\n",
       "      <td>0:00:14.084697</td>\n",
       "      <td>0</td>\n",
       "      <td>0</td>\n",
       "      <td>48</td>\n",
       "      <td>?</td>\n",
       "      <td>False</td>\n",
       "    </tr>\n",
       "    <tr>\n",
       "      <th>4</th>\n",
       "      <td>4</td>\n",
       "      <td>True</td>\n",
       "      <td>1157740</td>\n",
       "      <td>dn045</td>\n",
       "      <td>None</td>\n",
       "      <td>0:00:12.380121</td>\n",
       "      <td>0</td>\n",
       "      <td>0</td>\n",
       "      <td>48</td>\n",
       "      <td>?</td>\n",
       "      <td>False</td>\n",
       "    </tr>\n",
       "    <tr>\n",
       "      <th>5</th>\n",
       "      <td>5</td>\n",
       "      <td>True</td>\n",
       "      <td>1157741</td>\n",
       "      <td>dn046</td>\n",
       "      <td>None</td>\n",
       "      <td>0:00:00.151358</td>\n",
       "      <td>0</td>\n",
       "      <td>0</td>\n",
       "      <td>48</td>\n",
       "      <td>?</td>\n",
       "      <td>False</td>\n",
       "    </tr>\n",
       "    <tr>\n",
       "      <th>6</th>\n",
       "      <td>6</td>\n",
       "      <td>True</td>\n",
       "      <td>1157742</td>\n",
       "      <td>dn047</td>\n",
       "      <td>None</td>\n",
       "      <td>0:00:00.173459</td>\n",
       "      <td>0</td>\n",
       "      <td>0</td>\n",
       "      <td>48</td>\n",
       "      <td>?</td>\n",
       "      <td>False</td>\n",
       "    </tr>\n",
       "    <tr>\n",
       "      <th>7</th>\n",
       "      <td>7</td>\n",
       "      <td>True</td>\n",
       "      <td>1157743</td>\n",
       "      <td>dn048</td>\n",
       "      <td>None</td>\n",
       "      <td>0:00:02.031390</td>\n",
       "      <td>0</td>\n",
       "      <td>0</td>\n",
       "      <td>48</td>\n",
       "      <td>?</td>\n",
       "      <td>False</td>\n",
       "    </tr>\n",
       "    <tr>\n",
       "      <th>8</th>\n",
       "      <td>8</td>\n",
       "      <td>True</td>\n",
       "      <td>1157744</td>\n",
       "      <td>dn277</td>\n",
       "      <td>None</td>\n",
       "      <td>0:00:03.611701</td>\n",
       "      <td>0</td>\n",
       "      <td>0</td>\n",
       "      <td>47</td>\n",
       "      <td>?</td>\n",
       "      <td>False</td>\n",
       "    </tr>\n",
       "  </tbody>\n",
       "</table>\n",
       "</div>"
      ],
      "text/plain": [
       "   worker_id  is_running   job_id worker_name current_function  \\\n",
       "0          0        True  1157736       dn230             None   \n",
       "1          1        True  1157737       dn189             None   \n",
       "2          2        True  1157738       dn043             None   \n",
       "3          3        True  1157739       dn044             None   \n",
       "4          4        True  1157740       dn045             None   \n",
       "5          5        True  1157741       dn046             None   \n",
       "6          6        True  1157742       dn047             None   \n",
       "7          7        True  1157743       dn048             None   \n",
       "8          8        True  1157744       dn277             None   \n",
       "\n",
       "  time_since_update  functions_left  functions_done  functions_skipped  \\\n",
       "0    0:00:11.326507               0               0                 48   \n",
       "1    0:00:09.885998               0               0                 48   \n",
       "2    0:00:00.468873               0               0                 48   \n",
       "3    0:00:14.084697               0               0                 48   \n",
       "4    0:00:12.380121               0               0                 48   \n",
       "5    0:00:00.151358               0               0                 48   \n",
       "6    0:00:00.173459               0               0                 48   \n",
       "7    0:00:02.031390               0               0                 48   \n",
       "8    0:00:03.611701               0               0                 47   \n",
       "\n",
       "  dps_ready  stop_signal  \n",
       "0         ?        False  \n",
       "1         ?        False  \n",
       "2         ?        False  \n",
       "3         ?        False  \n",
       "4         ?        False  \n",
       "5         ?        False  \n",
       "6         ?        False  \n",
       "7         ?        False  \n",
       "8         ?        False  "
      ]
     },
     "execution_count": 2,
     "metadata": {},
     "output_type": "execute_result"
    }
   ],
   "source": [
    "get_workers_status(count_dps=False)"
   ]
  },
  {
   "cell_type": "code",
   "execution_count": null,
   "metadata": {
    "collapsed": false,
    "jupyter": {
     "outputs_hidden": false
    }
   },
   "outputs": [],
   "source": [
    "if input('Heads-up! irreversible operation. Continue?') == 'yes':\n",
    "    clear_skipped_funcs(mode='delete', worker_ids='all')\n",
    "    clear_done_funcs(mode='delete', worker_ids='all')"
   ]
  }
 ],
 "metadata": {
  "kernelspec": {
   "display_name": "Python 3 (ipykernel)",
   "language": "python",
   "name": "python3"
  },
  "language_info": {
   "codemirror_mode": {
    "name": "ipython",
    "version": 3
   },
   "file_extension": ".py",
   "mimetype": "text/x-python",
   "name": "python",
   "nbconvert_exporter": "python",
   "pygments_lexer": "ipython3",
   "version": "3.10.9"
  },
  "vscode": {
   "interpreter": {
    "hash": "96f0af387f527cbc9b093907dafc6a73e2fa8a695e3c771b01dc3cd7c8790056"
   }
  }
 },
 "nbformat": 4,
 "nbformat_minor": 4
}
